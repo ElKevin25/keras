{
  "nbformat": 4,
  "nbformat_minor": 0,
  "metadata": {
    "colab": {
      "provenance": []
    },
    "kernelspec": {
      "name": "python3",
      "display_name": "Python 3"
    },
    "language_info": {
      "name": "python"
    }
  },
  "cells": [
    {
      "cell_type": "markdown",
      "source": [
        "Here I shall be creating a model that predicts a linear relationship:\n",
        "\n",
        "y = 2x + 1\n"
      ],
      "metadata": {
        "id": "wKr2i-EEE9Wr"
      }
    },
    {
      "cell_type": "code",
      "execution_count": null,
      "metadata": {
        "colab": {
          "base_uri": "https://localhost:8080/"
        },
        "id": "GAHIIlfCD8R0",
        "outputId": "a3d86462-6b3c-4548-9da8-da5abfc68cdd"
      },
      "outputs": [
        {
          "output_type": "stream",
          "name": "stdout",
          "text": [
            "Colab only includes TensorFlow 2.x; %tensorflow_version has no effect.\n"
          ]
        }
      ],
      "source": [
        "try:\n",
        "    %tensorflow_version 2.x\n",
        "except:\n",
        "    pass"
      ]
    },
    {
      "cell_type": "code",
      "source": [
        "# Helper libraries\n",
        "import numpy as np\n",
        "import os\n",
        "import matplotlib.pyplot as plt\n",
        "\n",
        "# TensorFlow\n",
        "import tensorflow as tf\n",
        " \n",
        "print(tf.__version__)"
      ],
      "metadata": {
        "colab": {
          "base_uri": "https://localhost:8080/"
        },
        "id": "a_WEdUzYFNfz",
        "outputId": "11dfde7b-139b-44a3-d198-c874dcef39a8"
      },
      "execution_count": null,
      "outputs": [
        {
          "output_type": "stream",
          "name": "stdout",
          "text": [
            "2.9.2\n"
          ]
        }
      ]
    },
    {
      "cell_type": "code",
      "source": [
        "X = np.arange(-10.0, 10.0, 1e-2)\n",
        "np.random.shuffle(X)\n",
        "print(X)\n",
        "\n",
        "y =  2 * X + 1\n",
        "\n",
        "print(y)\n",
        "\n",
        "plt.plot(X, y)\n",
        "\n",
        "train_end = int(0.6 * len(X))\n",
        "#print (train_end)\n",
        "\n",
        "test_start = int(0.8 * len(X))\n",
        "#print (test_start)\n",
        "X_train, y_train = X[:train_end], y[:train_end]\n",
        "X_test, y_test = X[test_start:], y[test_start:]\n",
        "X_val, y_val = X[train_end:test_start], y[train_end:test_start]\n",
        "\n",
        "#print(X_train)\n",
        "#print(y_train)\n",
        "plt.plot(X_train, y_train)\n",
        "plt.plot(X_test, y_test)\n",
        "plt.plot(X_val, y_val)"
      ],
      "metadata": {
        "colab": {
          "base_uri": "https://localhost:8080/",
          "height": 317
        },
        "id": "1HV5D_WFplLM",
        "outputId": "361ede6f-0a93-4640-ef84-ebb80b42c319"
      },
      "execution_count": null,
      "outputs": [
        {
          "output_type": "stream",
          "name": "stdout",
          "text": [
            "[-2.44 -4.96  7.64 ...  2.97  0.77  2.02]\n",
            "[-3.88 -8.92 16.28 ...  6.94  2.54  5.04]\n"
          ]
        },
        {
          "output_type": "execute_result",
          "data": {
            "text/plain": [
              "[<matplotlib.lines.Line2D at 0x7f31f841f790>]"
            ]
          },
          "metadata": {},
          "execution_count": 5
        },
        {
          "output_type": "display_data",
          "data": {
            "text/plain": [
              "<Figure size 432x288 with 1 Axes>"
            ],
            "image/png": "[encoded data removed]"
          },
          "metadata": {
            "needs_background": "light"
          }
        }
      ]
    },
    {
      "cell_type": "code",
      "source": [
        "tf.keras.backend.clear_session()\n",
        "linear_model = tf.keras.models.Sequential([\n",
        "                                           tf.keras.layers.Dense(units=1, input_shape=[1], name='Single')\n",
        "                                           ])\n",
        "linear_model.compile(optimizer=tf.keras.optimizers.SGD(), loss=tf.keras.losses.mean_squared_error)\n",
        "linear_model.summary()"
      ],
      "metadata": {
        "colab": {
          "base_uri": "https://localhost:8080/"
        },
        "id": "Q66-yHp11tvv",
        "outputId": "0a03ecd8-a05d-485b-eb50-efcfe2612fa2"
      },
      "execution_count": null,
      "outputs": [
        {
          "output_type": "stream",
          "name": "stdout",
          "text": [
            "Model: \"sequential\"\n",
            "_________________________________________________________________\n",
            " Layer (type)                Output Shape              Param #   \n",
            "=================================================================\n",
            " Single (Dense)              (None, 1)                 2         \n",
            "                                                                 \n",
            "=================================================================\n",
            "Total params: 2\n",
            "Trainable params: 2\n",
            "Non-trainable params: 0\n",
            "_________________________________________________________________\n"
          ]
        }
      ]
    },
    {
      "cell_type": "markdown",
      "source": [
        "We now train our model for 20 epochs. After 20 epochs, our model’s losses were around 2e-12 for training as well as validation. Then, we evaluate our model on the test data. Our test loss came out to be around 2e-12. You can try predicting some values to verify the results like I did here. The output I received is 15.866."
      ],
      "metadata": {
        "id": "MKGoIWFz2Pt8"
      }
    },
    {
      "cell_type": "code",
      "source": [
        "linear_model.fit(X_train, y_train, validation_data=(X_val, y_val), epochs=20)\n"
      ],
      "metadata": {
        "colab": {
          "base_uri": "https://localhost:8080/"
        },
        "id": "qjqizXnE26AV",
        "outputId": "30943a24-2744-49a2-e1c4-65598ffe33cc"
      },
      "execution_count": null,
      "outputs": [
        {
          "output_type": "stream",
          "name": "stdout",
          "text": [
            "Epoch 1/20\n",
            "38/38 [==============================] - 1s 5ms/step - loss: 10.6393 - val_loss: 0.1878\n",
            "Epoch 2/20\n",
            "38/38 [==============================] - 0s 2ms/step - loss: 0.0996 - val_loss: 0.0403\n",
            "Epoch 3/20\n",
            "38/38 [==============================] - 0s 2ms/step - loss: 0.0219 - val_loss: 0.0086\n",
            "Epoch 4/20\n",
            "38/38 [==============================] - 0s 2ms/step - loss: 0.0046 - val_loss: 0.0018\n",
            "Epoch 5/20\n",
            "38/38 [==============================] - 0s 2ms/step - loss: 9.8421e-04 - val_loss: 3.9661e-04\n",
            "Epoch 6/20\n",
            "38/38 [==============================] - 0s 1ms/step - loss: 2.1252e-04 - val_loss: 8.5748e-05\n",
            "Epoch 7/20\n",
            "38/38 [==============================] - 0s 2ms/step - loss: 4.5249e-05 - val_loss: 1.8711e-05\n",
            "Epoch 8/20\n",
            "38/38 [==============================] - 0s 2ms/step - loss: 9.7720e-06 - val_loss: 3.9840e-06\n",
            "Epoch 9/20\n",
            "38/38 [==============================] - 0s 2ms/step - loss: 2.1111e-06 - val_loss: 8.5170e-07\n",
            "Epoch 10/20\n",
            "38/38 [==============================] - 0s 2ms/step - loss: 4.5329e-07 - val_loss: 1.8556e-07\n",
            "Epoch 11/20\n",
            "38/38 [==============================] - 0s 1ms/step - loss: 9.7363e-08 - val_loss: 4.4586e-08\n",
            "Epoch 12/20\n",
            "38/38 [==============================] - 0s 2ms/step - loss: 2.1211e-08 - val_loss: 8.3937e-09\n",
            "Epoch 13/20\n",
            "38/38 [==============================] - 0s 1ms/step - loss: 4.4634e-09 - val_loss: 1.8201e-09\n",
            "Epoch 14/20\n",
            "38/38 [==============================] - 0s 2ms/step - loss: 9.6580e-10 - val_loss: 3.9983e-10\n",
            "Epoch 15/20\n",
            "38/38 [==============================] - 0s 1ms/step - loss: 2.1189e-10 - val_loss: 1.0156e-10\n",
            "Epoch 16/20\n",
            "38/38 [==============================] - 0s 1ms/step - loss: 4.6963e-11 - val_loss: 1.7457e-11\n",
            "Epoch 17/20\n",
            "38/38 [==============================] - 0s 1ms/step - loss: 1.0519e-11 - val_loss: 3.6484e-12\n",
            "Epoch 18/20\n",
            "38/38 [==============================] - 0s 2ms/step - loss: 2.3745e-12 - val_loss: 1.8956e-12\n",
            "Epoch 19/20\n",
            "38/38 [==============================] - 0s 2ms/step - loss: 1.8574e-12 - val_loss: 3.3891e-12\n",
            "Epoch 20/20\n",
            "38/38 [==============================] - 0s 2ms/step - loss: 1.9417e-12 - val_loss: 1.8455e-12\n"
          ]
        },
        {
          "output_type": "execute_result",
          "data": {
            "text/plain": [
              "<keras.callbacks.History at 0x7f31f4046090>"
            ]
          },
          "metadata": {},
          "execution_count": 7
        }
      ]
    },
    {
      "cell_type": "code",
      "source": [
        "print(linear_model.evaluate(X_test, y_test, verbose=0))\n",
        "print(round(linear_model.predict([1.0]).tolist()[0][0], 4))    # expected: 15.886\n"
      ],
      "metadata": {
        "colab": {
          "base_uri": "https://localhost:8080/"
        },
        "id": "eX4fL1sC-HJK",
        "outputId": "6b515428-58a9-4c1b-8e7a-1728605711e3"
      },
      "execution_count": null,
      "outputs": [
        {
          "output_type": "stream",
          "name": "stdout",
          "text": [
            "1.735773851041511e-12\n",
            "1/1 [==============================] - 0s 24ms/step\n",
            "3.0\n"
          ]
        }
      ]
    },
    {
      "cell_type": "code",
      "source": [
        "export_path = 'linear_model/1/'\n",
        "tf.saved_model.save(linear_model, os.path.join('/content/',export_path))\n",
        "\n",
        "from google.colab import files\n",
        "download_path = '/content/my_linear_model.zip'\n",
        "!zip -r {download_path} {export_path}\n",
        "files.download(download_path)"
      ],
      "metadata": {
        "id": "GClxxP8R_DTV",
        "outputId": "6618e47f-84a1-4df0-97d1-8ad5251bc9ad",
        "colab": {
          "base_uri": "https://localhost:8080/",
          "height": 158
        }
      },
      "execution_count": null,
      "outputs": [
        {
          "output_type": "stream",
          "name": "stderr",
          "text": [
            "WARNING:absl:Function `_wrapped_model` contains input name(s) Single_input with unsupported characters which will be renamed to single_input in the SavedModel.\n"
          ]
        },
        {
          "output_type": "stream",
          "name": "stdout",
          "text": [
            "  adding: linear_model/1/ (stored 0%)\n",
            "  adding: linear_model/1/saved_model.pb (deflated 86%)\n",
            "  adding: linear_model/1/assets/ (stored 0%)\n",
            "  adding: linear_model/1/variables/ (stored 0%)\n",
            "  adding: linear_model/1/variables/variables.index (deflated 44%)\n",
            "  adding: linear_model/1/variables/variables.data-00000-of-00001 (deflated 67%)\n"
          ]
        },
        {
          "output_type": "display_data",
          "data": {
            "text/plain": [
              "<IPython.core.display.Javascript object>"
            ],
            "application/javascript": [
              "\n",
              "    async function download(id, filename, size) {\n",
              "      if (!google.colab.kernel.accessAllowed) {\n",
              "        return;\n",
              "      }\n",
              "      const div = document.createElement('div');\n",
              "      const label = document.createElement('label');\n",
              "      label.textContent = `Downloading \"${filename}\": `;\n",
              "      div.appendChild(label);\n",
              "      const progress = document.createElement('progress');\n",
              "      progress.max = size;\n",
              "      div.appendChild(progress);\n",
              "      document.body.appendChild(div);\n",
              "\n",
              "      const buffers = [];\n",
              "      let downloaded = 0;\n",
              "\n",
              "      const channel = await google.colab.kernel.comms.open(id);\n",
              "      // Send a message to notify the kernel that we're ready.\n",
              "      channel.send({})\n",
              "\n",
              "      for await (const message of channel.messages) {\n",
              "        // Send a message to notify the kernel that we're ready.\n",
              "        channel.send({})\n",
              "        if (message.buffers) {\n",
              "          for (const buffer of message.buffers) {\n",
              "            buffers.push(buffer);\n",
              "            downloaded += buffer.byteLength;\n",
              "            progress.value = downloaded;\n",
              "          }\n",
              "        }\n",
              "      }\n",
              "      const blob = new Blob(buffers, {type: 'application/binary'});\n",
              "      const a = document.createElement('a');\n",
              "      a.href = window.URL.createObjectURL(blob);\n",
              "      a.download = filename;\n",
              "      div.appendChild(a);\n",
              "      a.click();\n",
              "      div.remove();\n",
              "    }\n",
              "  "
            ]
          },
          "metadata": {}
        },
        {
          "output_type": "display_data",
          "data": {
            "text/plain": [
              "<IPython.core.display.Javascript object>"
            ],
            "application/javascript": [
              "download(\"download_33977932-32c7-4bd2-94d3-87840f5864c1\", \"my_linear_model.zip\", 8089)"
            ]
          },
          "metadata": {}
        }
      ]
    }
  ]
}